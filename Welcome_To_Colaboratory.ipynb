{
  "nbformat": 4,
  "nbformat_minor": 0,
  "metadata": {
    "colab": {
      "name": "Welcome To Colaboratory",
      "provenance": [],
      "collapsed_sections": [],
      "include_colab_link": true
    },
    "kernelspec": {
      "display_name": "Python 3",
      "name": "python3"
    }
  },
  "cells": [
    {
      "cell_type": "markdown",
      "metadata": {
        "id": "view-in-github",
        "colab_type": "text"
      },
      "source": [
        "<a href=\"https://colab.research.google.com/github/HEMANTHABANDA/Assignment-I/blob/master/Welcome_To_Colaboratory.ipynb\" target=\"_parent\"><img src=\"https://colab.research.google.com/assets/colab-badge.svg\" alt=\"Open In Colab\"/></a>"
      ]
    },
    {
      "cell_type": "code",
      "metadata": {
        "id": "hwl4g2wSeBPn",
        "colab_type": "code",
        "colab": {
          "base_uri": "https://localhost:8080/",
          "height": 52
        },
        "outputId": "85ba4cc6-fd07-42dc-8b58-4f130df7a487"
      },
      "source": [
        "year=int(input(\"Enter a year:\"))\n",
        "d={0:\"monkey\",1:\"rooster\",2:\"dog\",3:\"pig\",4:\"rat\",5:\"ox\",6:\"tiger\",7:\"rabbit\",8:\"dragon\",9:\"snake\",10:\"horse\",11:\"sheep\"}\n",
        "x=year%12\n",
        "print(d[x])"
      ],
      "execution_count": 1,
      "outputs": [
        {
          "output_type": "stream",
          "text": [
            "Enter a year:2000\n",
            "dragon\n"
          ],
          "name": "stdout"
        }
      ]
    },
    {
      "cell_type": "code",
      "metadata": {
        "id": "CRK8WqN-eto_",
        "colab_type": "code",
        "colab": {
          "base_uri": "https://localhost:8080/",
          "height": 69
        },
        "outputId": "715534af-5641-49ef-e410-b076ca32edbe"
      },
      "source": [
        "d=int(input(\"Enter distance to be travel:\"))\n",
        "w=int(input(\"Weight of the Goods:\"))\n",
        "if(d>=500):\n",
        "  if(w>=100):\n",
        "    charge=d*5\n",
        "  elif(w>=10 and w<100):\n",
        "    charge=d*6\n",
        "  elif(w<10):\n",
        "    charge=d*7\n",
        "else:\n",
        "  if(w>=100):\n",
        "     charge=d*5\n",
        "  else:\n",
        "     charge=d*5\n",
        "print(\"Amount to be charged:\",charge)"
      ],
      "execution_count": 2,
      "outputs": [
        {
          "output_type": "stream",
          "text": [
            "Enter distance to be travel:520\n",
            "Weight of the Goods:50\n",
            "Amount to be charged: 3120\n"
          ],
          "name": "stdout"
        }
      ]
    },
    {
      "cell_type": "code",
      "metadata": {
        "id": "dn9IQ_kcfYDz",
        "colab_type": "code",
        "colab": {
          "base_uri": "https://localhost:8080/",
          "height": 69
        },
        "outputId": "2b230341-6d51-49d9-c534-3557cbf40865"
      },
      "source": [
        "t=input(\"type of seat:\")\n",
        "p=input(\"Payment mode:\")\n",
        "if(t==\"stalls\"):\n",
        "  if(p==\"cash\"):\n",
        "    cost=625-(625*0.1)\n",
        "  else:\n",
        "    cost=625-(625*0.05)\n",
        "elif(t==\"circle\"):\n",
        "  if(p==\"cash\"):\n",
        "    cost=750-(750*0.1)\n",
        "  else:\n",
        "   cost=750-(750*0.05)\n",
        "elif(t==\"upperclass\"):\n",
        "  if(p==\"cash\"):\n",
        "    cost=850-(850*0.1)\n",
        "  else:\n",
        "   cost=850-(850*0.05)\n",
        "elif(t==\"box\"):\n",
        "  if(p==\"cash\"):\n",
        "    cost=1000-(1000*0.1)\n",
        "  else:\n",
        "   cost=1000-(1000*0.05)\n",
        "print(\"Cost of ticket:\",cost)"
      ],
      "execution_count": 4,
      "outputs": [
        {
          "output_type": "stream",
          "text": [
            "type of seat:box\n",
            "Payment mode:cash\n",
            "Cost of ticket: 900.0\n"
          ],
          "name": "stdout"
        }
      ]
    },
    {
      "cell_type": "code",
      "metadata": {
        "id": "jSvXOpwxf3Ex",
        "colab_type": "code",
        "colab": {
          "base_uri": "https://localhost:8080/",
          "height": 87
        },
        "outputId": "36336309-3af2-4c5b-aba6-3e27a72f5207"
      },
      "source": [
        "m=int(input(\"enter amount of water in kilograms\"))\n",
        "i=int(input(\"Enter initial temperature\"))\n",
        "f=int(input(\"Enter final temperature\"))\n",
        "Q=m*(f-i)*4184\n",
        "print(\"The energy needed to heat water in joules is:\",Q)"
      ],
      "execution_count": 5,
      "outputs": [
        {
          "output_type": "stream",
          "text": [
            "enter amount of water in kilograms2000\n",
            "Enter initial temperature60\n",
            "Enter final temperature100\n",
            "The energy needed to heat water in joules is: 334720000\n"
          ],
          "name": "stdout"
        }
      ]
    },
    {
      "cell_type": "code",
      "metadata": {
        "id": "BcFFkew9lrDW",
        "colab_type": "code",
        "colab": {
          "base_uri": "https://localhost:8080/",
          "height": 52
        },
        "outputId": "fd9258cd-c176-4472-b9f7-e2d823cf70b3"
      },
      "source": [
        "winter=[\"december\",\"january\",\"february\"]\n",
        "spring=[\"march\",\"april\",\"may\"]\n",
        "summer=[\"june\",\"july\",\"august\"]\n",
        "autumn=[\"september\",\"october\",\"november\"]\n",
        "month=input(\"Enter a month:\")\n",
        "if month in winter:\n",
        "  print(\"It is winter season\")\n",
        "elif month in spring:\n",
        "  print(\"It is spring season\")\n",
        "elif month in summer:\n",
        "  print(\"It is summer season\")\n",
        "else:\n",
        "  print(\"It is autumn season\")"
      ],
      "execution_count": 22,
      "outputs": [
        {
          "output_type": "stream",
          "text": [
            "Enter a month:october\n",
            "It is autumn season\n"
          ],
          "name": "stdout"
        }
      ]
    },
    {
      "cell_type": "code",
      "metadata": {
        "id": "R6pfxCoDhaiD",
        "colab_type": "code",
        "colab": {
          "base_uri": "https://localhost:8080/",
          "height": 69
        },
        "outputId": "9a2907c3-b079-45e3-fecb-56563cba09b2"
      },
      "source": [
        "w=float(input(\"Enter weight in pounds:\"))\n",
        "h=float(input(\"Enter height in inches\"))\n",
        "h1=h*0.0254\n",
        "bmi=(w*0.45359237)/(h1**2)\n",
        "if(bmi<18.5):\n",
        "  print(\"UnderWeight\")\n",
        "elif(18.5<=bmi<25.0):\n",
        "  print(\"Normal\")\n",
        "elif(25.0<=bmi<30.0):\n",
        "  print(\"Overweight\")\n",
        "elif(30.0<=bmi):\n",
        "  print(\"Obese\")"
      ],
      "execution_count": 11,
      "outputs": [
        {
          "output_type": "stream",
          "text": [
            "Enter weight in pounds:6\n",
            "Enter height in inches6\n",
            "Obese\n"
          ],
          "name": "stdout"
        }
      ]
    },
    {
      "cell_type": "code",
      "metadata": {
        "id": "P7gUl99eiRED",
        "colab_type": "code",
        "colab": {
          "base_uri": "https://localhost:8080/",
          "height": 52
        },
        "outputId": "fcfd2990-774d-40f2-f17a-99fb27f02c61"
      },
      "source": [
        "a=int(input(\"Enter an integer between 100 and 1000:\"))\n",
        "sum=0\n",
        "while(a>0):   \n",
        "   sum=sum+int(a%10)\n",
        "   a=int(a/10)\n",
        "print(sum)"
      ],
      "execution_count": 14,
      "outputs": [
        {
          "output_type": "stream",
          "text": [
            "Enter an integer between 100 and 1000:567\n",
            "18\n"
          ],
          "name": "stdout"
        }
      ]
    },
    {
      "cell_type": "code",
      "metadata": {
        "id": "QjrIunK0idS2",
        "colab_type": "code",
        "colab": {
          "base_uri": "https://localhost:8080/",
          "height": 107
        },
        "outputId": "5d940cd9-aed5-469b-811c-ff5e377df8ed"
      },
      "source": [
        "a=int(input(\"Enter start range :\"))\n",
        "b=int(input(\"Enter last range :\"))\n",
        "print(\"Palindrome numbers between %d to %d are:\"%(a,b))\n",
        "for num in range(a,b+1):\n",
        "  temp=num\n",
        "  rev=0\n",
        "\n",
        "  while(temp > 0):\n",
        "   r=temp%10\n",
        "   rev=(rev*10)+r\n",
        "   temp=int(temp/10)\n",
        "  if(num==rev):\n",
        "     print(num,end=' ')"
      ],
      "execution_count": 15,
      "outputs": [
        {
          "output_type": "stream",
          "text": [
            "Enter start range :100\n",
            "Enter last range :1000\n",
            "Palindrome numbers between 100 to 1000 are:\n",
            "101 111 121 131 141 151 161 171 181 191 202 212 222 232 242 252 262 272 282 292 303 313 323 333 343 353 363 373 383 393 404 414 424 434 444 454 464 474 484 494 505 515 525 535 545 555 565 575 585 595 606 616 626 636 646 656 666 676 686 696 707 717 727 737 747 757 767 777 787 797 808 818 828 838 848 858 868 878 888 898 909 919 929 939 949 959 969 979 989 999 "
          ],
          "name": "stdout"
        }
      ]
    },
    {
      "cell_type": "code",
      "metadata": {
        "id": "BR-AmxtTiqYk",
        "colab_type": "code",
        "colab": {
          "base_uri": "https://localhost:8080/",
          "height": 139
        },
        "outputId": "9ef9481f-e112-4e24-db3e-c55716574584"
      },
      "source": [
        "a=int(input(\"Enter start range :\"))\n",
        "b=int(input(\"Enter last range :\"))\n",
        "print(\"Armstrong numbers between %d to %d are:\"%(a,b))\n",
        "for num in range(a,b+1):\n",
        "  count=len(str(num))\n",
        "  sum=0\n",
        "  x=0\n",
        "  temp=num\n",
        "  while(temp>0):\n",
        "    r=temp%10\n",
        "    x=r**count\n",
        "    sum=sum+x\n",
        "    temp=int(temp/10)\n",
        "  if(num==sum):\n",
        "    print(num)"
      ],
      "execution_count": null,
      "outputs": [
        {
          "output_type": "stream",
          "text": [
            "Enter start range :100\n",
            "Enter last range :500\n",
            "Armstrong numbers between 100 to 500 are:\n",
            "153\n",
            "370\n",
            "371\n",
            "407\n"
          ],
          "name": "stdout"
        }
      ]
    },
    {
      "cell_type": "code",
      "metadata": {
        "id": "wLKrbxgxjB2K",
        "colab_type": "code",
        "colab": {
          "base_uri": "https://localhost:8080/",
          "height": 1000
        },
        "outputId": "d5c1fa06-c0f3-438b-ddb6-56044fcf9d7b"
      },
      "source": [
        "a=int(input(\"Enter start range:\"))\n",
        "b=int(input(\"Enter last range:\"))\n",
        "for num in range(a,b+1):\n",
        "  if(num%3==0 and num%5==0):\n",
        "    print(\"fizz buzz\")\n",
        "  elif(num%3==0):\n",
        "    print(\"fizz\")\n",
        "  elif(num%5==0):\n",
        "    print(\"buzz\")\n",
        "  else:\n",
        "   print(num)"
      ],
      "execution_count": null,
      "outputs": [
        {
          "output_type": "stream",
          "text": [
            "Enter start range:1\n",
            "Enter last range:100\n",
            "1\n",
            "2\n",
            "fizz\n",
            "4\n",
            "buzz\n",
            "fizz\n",
            "7\n",
            "8\n",
            "fizz\n",
            "buzz\n",
            "11\n",
            "fizz\n",
            "13\n",
            "14\n",
            "fizz buzz\n",
            "16\n",
            "17\n",
            "fizz\n",
            "19\n",
            "buzz\n",
            "fizz\n",
            "22\n",
            "23\n",
            "fizz\n",
            "buzz\n",
            "26\n",
            "fizz\n",
            "28\n",
            "29\n",
            "fizz buzz\n",
            "31\n",
            "32\n",
            "fizz\n",
            "34\n",
            "buzz\n",
            "fizz\n",
            "37\n",
            "38\n",
            "fizz\n",
            "buzz\n",
            "41\n",
            "fizz\n",
            "43\n",
            "44\n",
            "fizz buzz\n",
            "46\n",
            "47\n",
            "fizz\n",
            "49\n",
            "buzz\n",
            "fizz\n",
            "52\n",
            "53\n",
            "fizz\n",
            "buzz\n",
            "56\n",
            "fizz\n",
            "58\n",
            "59\n",
            "fizz buzz\n",
            "61\n",
            "62\n",
            "fizz\n",
            "64\n",
            "buzz\n",
            "fizz\n",
            "67\n",
            "68\n",
            "fizz\n",
            "buzz\n",
            "71\n",
            "fizz\n",
            "73\n",
            "74\n",
            "fizz buzz\n",
            "76\n",
            "77\n",
            "fizz\n",
            "79\n",
            "buzz\n",
            "fizz\n",
            "82\n",
            "83\n",
            "fizz\n",
            "buzz\n",
            "86\n",
            "fizz\n",
            "88\n",
            "89\n",
            "fizz buzz\n",
            "91\n",
            "92\n",
            "fizz\n",
            "94\n",
            "buzz\n",
            "fizz\n",
            "97\n",
            "98\n",
            "fizz\n",
            "buzz\n"
          ],
          "name": "stdout"
        }
      ]
    },
    {
      "cell_type": "code",
      "metadata": {
        "id": "cjFECbrAjZ9W",
        "colab_type": "code",
        "colab": {
          "base_uri": "https://localhost:8080/",
          "height": 87
        },
        "outputId": "60005094-1b29-48a4-b528-b97160e8a35b"
      },
      "source": [
        "h=int(input(\"Enter height of the wall\"))\n",
        "u=int(input(\"Enter how many steps to climb:\"))\n",
        "d=int(input(\"Enter how many meters slipsdown\"))\n",
        "steps=0\n",
        "count=0\n",
        "while(h>=u):\n",
        "  steps=u-d\n",
        "  h=h-steps\n",
        "  count=count+1\n",
        "if(h<=u and h>=0):\n",
        "    count=count+1\n",
        "\n",
        "print(count)"
      ],
      "execution_count": 18,
      "outputs": [
        {
          "output_type": "stream",
          "text": [
            "Enter height of the wall500\n",
            "Enter how many steps to climb:20\n",
            "Enter how many meters slipsdown15\n",
            "98\n"
          ],
          "name": "stdout"
        }
      ]
    }
  ]
}